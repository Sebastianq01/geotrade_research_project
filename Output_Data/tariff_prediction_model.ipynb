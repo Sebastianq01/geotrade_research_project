{
 "cells": [
  {
   "cell_type": "code",
   "execution_count": 42,
   "id": "30e6ad3c-cd91-4741-babc-6aab9a370757",
   "metadata": {},
   "outputs": [],
   "source": [
    "import numpy as np\n",
    "import pandas as pd\n",
    "import datetime\n",
    "import matplotlib.pyplot as plt\n",
    "import glob\n",
    "from sklearn import datasets\n",
    "from sklearn import metrics\n",
    "from sklearn.cluster import KMeans\n",
    "from sklearn.preprocessing import StandardScaler\n",
    "from sklearn.metrics import silhouette_score\n",
    "from sklearn.manifold import TSNE\n",
    "from sklearn.decomposition import PCA\n",
    "from sklearn import mixture\n",
    "import matplotlib.colors\n",
    "from sklearn.model_selection import train_test_split\n",
    "from sklearn.model_selection import KFold\n",
    "from sklearn.ensemble import RandomForestClassifier\n",
    "from sklearn.metrics import classification_report, confusion_matrix, accuracy_score, mean_squared_error, r2_score\n",
    "from sklearn.linear_model import LogisticRegression\n",
    "from sklearn import svm\n",
    "from sklearn.inspection import permutation_importance\n",
    "from sklearn.impute import SimpleImputer\n",
    "import pyodbc\n",
    "from scipy import stats\n",
    "from scipy.stats import pearsonr\n",
    "from scipy.stats import spearmanr\n",
    "from scipy.stats import kruskal\n",
    "from sklearn.linear_model import LogisticRegression\n",
    "from sklearn.svm import SVC, SVR\n",
    "from sklearn.neighbors import KNeighborsClassifier\n",
    "from sklearn.linear_model import Lasso, Ridge\n",
    "from sklearn.linear_model import LinearRegression\n",
    "from sklearn.neighbors import RadiusNeighborsClassifier\n"
   ]
  },
  {
   "cell_type": "markdown",
   "id": "297d0ea0-9e60-4280-aba4-2ae69b72432d",
   "metadata": {},
   "source": [
    "One Hot Encoding and Normalization\n"
   ]
  },
  {
   "cell_type": "code",
   "execution_count": 43,
   "id": "32e880b2-e3eb-4dd0-bc8a-7714ec6930bc",
   "metadata": {},
   "outputs": [],
   "source": [
    "# function to create Pandas dataframe from list of column tuples\n",
    "\n",
    "# inputs: df (Pandas DataFrame), escape (columns that don't need to be normalized or one-hot encoded)\n",
    "# output: normalized Pandas DataFrame\n",
    "\n",
    "def norm_one_hot(df, escape=[]):\n",
    "    data_list = list()\n",
    "    for field in list(df.columns):\n",
    "        if field in escape:\n",
    "            field_df = df[field]\n",
    "        elif df[field].dtype in ['int16', 'int32', 'int64', 'float16', 'float32', 'float64']:\n",
    "            if df[field].std() == 0:\n",
    "                field_df = df[field] * 0\n",
    "            else:\n",
    "                field_df = (df[field] - df[field].mean()) / df[field].std() # normalize column\n",
    "        else:\n",
    "            field_df = pd.get_dummies(df[field], drop_first=True) # one-hot embedding\n",
    "\n",
    "        data_list.append(field_df)\n",
    "\n",
    "    # concatenate dataframes\n",
    "    df_normalized = pd.concat(data_list, axis=1)\n",
    "\n",
    "    return df_normalized"
   ]
  },
  {
   "cell_type": "markdown",
   "id": "7c0c5acd-83fa-4407-a382-1576734c2b3a",
   "metadata": {},
   "source": [
    "Data Imputation "
   ]
  },
  {
   "cell_type": "code",
   "execution_count": 53,
   "id": "1b94eb98-0f9d-4446-ae3a-a3d7276a8d2e",
   "metadata": {},
   "outputs": [],
   "source": [
    "df=pd.read_csv('tariff_model_data_FILTERED.csv') "
   ]
  },
  {
   "cell_type": "code",
   "execution_count": 55,
   "id": "2bd8e930-f7b1-4908-ab17-65045f4e600d",
   "metadata": {},
   "outputs": [],
   "source": [
    "X = df.drop(['mfn','Crop ID', 'Unnamed: 0'], axis = 1)   \n",
    "X = norm_one_hot(X, ['democracy level', 'production quantity', 'edible', 'modified', 'fresh', 'frozen', 'shelled', 'dried', 'chilled', 'seed', 'ground', 'preserved'])\n",
    "col_names = list(X.columns)"
   ]
  },
  {
   "cell_type": "code",
   "execution_count": 64,
   "id": "83914627-1461-4dcd-b32d-89299a37bcef",
   "metadata": {},
   "outputs": [
    {
     "name": "stdout",
     "output_type": "stream",
     "text": [
      "LinearRegression()\n",
      "Correlation Coefficient: 0.4647388093016639\n",
      "Mean abolute error in predictions: 5.553586165970603\n",
      "Actual results: [ 3.20000005  2.5         2.5        ... 40.          0.\n",
      " 24.5       ]\n",
      "Model-Generated Results: [ 3.84478053  4.54487042  7.76609016 ... 17.54856089  0.9594329\n",
      "  1.37940056]\n",
      "Accuracy Results: Found with a Margin of Error of 土5%. \n",
      "\n",
      "Number of predicted tariffs within 5% of actual: 840\n",
      "Number of predicted tariffs outside 5% of actual: 513\n",
      "Prediction Accuracy of Model: 0.6208\n"
     ]
    }
   ],
   "source": [
    "Y = df['mfn']\n",
    "X_train, X_test, Y_train, Y_test = train_test_split(X, Y, test_size=0.2, random_state=0)\n",
    "model = LinearRegression()\n",
    "model.fit(X_train, Y_train)\n",
    "Y_pred = model.predict(X_test)\n",
    "\n",
    "\n",
    "print(model)\n",
    "#r squared, coefficient of determination\n",
    "print('Correlation Coefficient:', model.score(X_test, Y_test))\n",
    "\n",
    "#mean squared error\n",
    "print('Mean abolute error in predictions:', metrics.mean_absolute_error(Y_test, Y_pred))\n",
    "\n",
    "actual = list(Y_test)\n",
    "predicted = list(Y_pred)\n",
    "\n",
    "\n",
    "print('Actual results:', np.array(Y_test))\n",
    "print('Model-Generated Results:', np.array(Y_pred))\n",
    "\n",
    "#Check the accuracy of the model, usng adjusted maringal error of 1-5%\n",
    "\n",
    "moe = 5\n",
    "num_accurate = 0\n",
    "num_inaccurate = 0\n",
    "for index, element in enumerate(actual):\n",
    "    if abs(element - predicted[index]) < moe:\n",
    "        num_accurate += 1\n",
    "    else:\n",
    "        num_inaccurate += 1\n",
    "        \n",
    "print('Accuracy Results: Found with a Margin of Error of 土' + str(moe) + '%. \\n')\n",
    "print('Number of predicted tariffs within ' + str(moe) + '% of actual:', num_accurate)\n",
    "print('Number of predicted tariffs outside ' + str(moe) + '% of actual:', num_inaccurate)\n",
    "\n",
    "print('Prediction Accuracy of Model:', round(num_accurate/(num_accurate+num_inaccurate),4))\n"
   ]
  },
  {
   "cell_type": "code",
   "execution_count": 27,
   "id": "863dcfc2-b882-4d2a-ae37-fd3b83fb0735",
   "metadata": {},
   "outputs": [
    {
     "name": "stdout",
     "output_type": "stream",
     "text": [
      "age bins: {0: 263450, 1: 189203, 2: 96791, 3: 38438, 4: 56080, 5: 22042, 6: 9809, 7: 4492, 8: 3333, 9: 3723, 10: 763, 11: 149, 12: 418, 13: 39, 14: 182, '15+': 771}\n"
     ]
    }
   ],
   "source": [
    "# Generate histogram model for mfn rates\n",
    "\n",
    "df2 = pd.read_csv('../Raw_Data/wits_tariff_2018.csv')  \n",
    "mfn_rates = list(df2['mfn_rate'])\n",
    "mfn_rates.sort()\n",
    "\n",
    "freq_dict = {}\n",
    "for mfn in mfn_rates:\n",
    "    if round(mfn,1) not in freq_dict:\n",
    "        freq_dict[round(mfn,1)] = 1\n",
    "    else:\n",
    "        freq_dict[round(mfn,1)] += 1\n",
    "\n",
    "\n",
    "\n",
    "age_bins = {\n",
    "        0: 0,\n",
    "        1: 0,\n",
    "        2: 0,\n",
    "        3: 0,\n",
    "        4: 0,\n",
    "        5: 0,\n",
    "        6: 0,\n",
    "        7: 0,\n",
    "        8: 0,\n",
    "        9: 0,\n",
    "        10: 0,\n",
    "        11: 0,\n",
    "        12: 0,\n",
    "        13: 0,\n",
    "        14: 0,\n",
    "        '15+': 0\n",
    "    }\n",
    "\n",
    "for index, val in enumerate(mfn_rates):\n",
    "    age_bin = (val)//5\n",
    "    if age_bin > 14:\n",
    "        age_bins['15+'] += 1\n",
    "    else:\n",
    "        age_bins[age_bin] += 1\n",
    "print('age bins:', age_bins)\n"
   ]
  },
  {
   "cell_type": "code",
   "execution_count": 41,
   "id": "2330a17d-0b05-4ee6-913d-bb540214c44c",
   "metadata": {},
   "outputs": [
    {
     "name": "stdout",
     "output_type": "stream",
     "text": [
      "0\n",
      "100000\n",
      "200000\n",
      "300000\n",
      "400000\n",
      "500000\n",
      "600000\n",
      "{0: 7.049446243843255, 1: 8.321319097385196, 2: 9.640762712663422, 3: 11.989473327465635, 4: 7.9513759605110055, 5: 8.191305188783032, 6: 8.486187867841618, 7: 6.163457859264203, 8: 5.184417311718916, 9: 4.888306904028574}\n"
     ]
    }
   ],
   "source": [
    "# Generate histogram model for mfn rates\n",
    "tariff = pd.read_csv('../Raw_Data/wits_tariff_2018.csv')  \n",
    "polyarchy = pd.read_csv('polyarchy_data.csv')  \n",
    "polyarchy_bins = {\n",
    "        0: [],\n",
    "        1: [],\n",
    "        2: [],\n",
    "        3: [],\n",
    "        4: [],\n",
    "        5: [],\n",
    "        6: [],\n",
    "        7: [],\n",
    "        8: [],\n",
    "        9: [],\n",
    "    }\n",
    "\n",
    "\n",
    "bins = {\n",
    "        '0.01-0.1': [],\n",
    "        '0.11-0.2': [],\n",
    "        '0.21-0.3': [],\n",
    "        '0.31-0.4': [],\n",
    "        '0.41-0.5': [],\n",
    "        '0.51-0.6': [],\n",
    "        '0.61-0.7': [],\n",
    "        '0.71-0.8': [],\n",
    "        '0.81-0.9': [],\n",
    "        '0.91-1.0': [],\n",
    "    }\n",
    "\n",
    "p_dict = {}\n",
    "\n",
    "for i, r in polyarchy.iterrows():\n",
    "    p_dict[r['country_text_id']] = r['v2x_polyarchy']\n",
    "\n",
    "for index, row in tariff.iterrows():\n",
    "    country = row['iso3code']\n",
    "    if index % 100000 == 0:\n",
    "        print(index)\n",
    "    mfn = row['mfn_rate']\n",
    "    if country not in set(polyarchy['country_text_id']):\n",
    "        continue\n",
    "    elif country in p_dict:\n",
    "        num = int(str(p_dict[country])[2])\n",
    "        polyarchy_bins[num].append(mfn)\n",
    "                \n",
    "for mfn in polyarchy_bins:\n",
    "    polyarchy_bins[mfn] = sum(polyarchy_bins[mfn])/len(polyarchy_bins[mfn])\n",
    "    \n",
    "print(polyarchy_bins)\n",
    "                "
   ]
  },
  {
   "cell_type": "code",
   "execution_count": null,
   "id": "9a365423-945c-4273-b9e2-808125f8fb90",
   "metadata": {},
   "outputs": [],
   "source": []
  }
 ],
 "metadata": {
  "kernelspec": {
   "display_name": "Python 3 (ipykernel)",
   "language": "python",
   "name": "python3"
  },
  "language_info": {
   "codemirror_mode": {
    "name": "ipython",
    "version": 3
   },
   "file_extension": ".py",
   "mimetype": "text/x-python",
   "name": "python",
   "nbconvert_exporter": "python",
   "pygments_lexer": "ipython3",
   "version": "3.8.3"
  }
 },
 "nbformat": 4,
 "nbformat_minor": 5
}
