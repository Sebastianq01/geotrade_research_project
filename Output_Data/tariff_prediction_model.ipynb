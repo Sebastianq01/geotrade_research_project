{
 "cells": [
  {
   "cell_type": "code",
   "execution_count": 1,
   "id": "30e6ad3c-cd91-4741-babc-6aab9a370757",
   "metadata": {},
   "outputs": [],
   "source": [
    "import numpy as np\n",
    "import pandas as pd\n",
    "import datetime\n",
    "import matplotlib.pyplot as plt\n",
    "import glob\n",
    "import time\n",
    "from sklearn import datasets\n",
    "from sklearn import metrics\n",
    "from sklearn.cluster import KMeans\n",
    "from sklearn.preprocessing import StandardScaler\n",
    "from sklearn.metrics import silhouette_score\n",
    "from sklearn.manifold import TSNE\n",
    "from sklearn.decomposition import PCA\n",
    "from sklearn import mixture\n",
    "import matplotlib.colors\n",
    "from sklearn.model_selection import train_test_split\n",
    "from sklearn.model_selection import KFold\n",
    "from sklearn.ensemble import RandomForestClassifier\n",
    "from sklearn.metrics import classification_report, confusion_matrix, accuracy_score, mean_squared_error, r2_score\n",
    "from sklearn.linear_model import LogisticRegression\n",
    "from sklearn import svm\n",
    "from sklearn.inspection import permutation_importance\n",
    "from sklearn.impute import SimpleImputer\n",
    "import pyodbc\n",
    "from scipy import stats\n",
    "from scipy.stats import pearsonr\n",
    "from scipy.stats import spearmanr\n",
    "from scipy.stats import kruskal\n",
    "from sklearn.linear_model import LogisticRegression\n",
    "from sklearn.svm import SVC, SVR\n",
    "from sklearn.neighbors import KNeighborsClassifier\n",
    "from sklearn.linear_model import Lasso, Ridge\n",
    "from sklearn.linear_model import LinearRegression\n",
    "from sklearn.neighbors import RadiusNeighborsClassifier\n",
    "from sklearn.preprocessing import PolynomialFeatures\n",
    "from sklearn.ensemble import RandomForestRegressor\n"
   ]
  },
  {
   "cell_type": "markdown",
   "id": "297d0ea0-9e60-4280-aba4-2ae69b72432d",
   "metadata": {},
   "source": [
    "## One Hot Encoding and Normalization\n",
    "\n",
    "To prepare our input values for model testing, we must perform one hot encoding for all categorical variables. This means we reassign the input feature as a binary variable, where each category becomes a boolean of whether or not the category applies to that input. This will be performed on `Crop Group`, `FAO Crop Name`,`Country`, and `Iso3Code`.\n"
   ]
  },
  {
   "cell_type": "code",
   "execution_count": 2,
   "id": "32e880b2-e3eb-4dd0-bc8a-7714ec6930bc",
   "metadata": {},
   "outputs": [],
   "source": [
    "# function to create Pandas dataframe from list of column tuples\n",
    "\n",
    "# inputs: df (Pandas DataFrame), escape (columns that don't need to be normalized or one-hot encoded)\n",
    "# output: normalized Pandas DataFrame\n",
    "\n",
    "def norm_one_hot(df, escape=[]):\n",
    "    data_list = list()\n",
    "    for field in list(df.columns):\n",
    "        if field in escape:\n",
    "            field_df = df[field]\n",
    "        elif df[field].dtype in ['int16', 'int32', 'int64', 'float16', 'float32', 'float64']:\n",
    "            if df[field].std() == 0:\n",
    "                field_df = df[field] * 0\n",
    "            else:\n",
    "                field_df = (df[field] - df[field].mean()) / df[field].std() # normalize column\n",
    "        else:\n",
    "            field_df = pd.get_dummies(df[field], drop_first=True) # one-hot embedding\n",
    "\n",
    "        data_list.append(field_df)\n",
    "\n",
    "    # concatenate dataframes\n",
    "    df_normalized = pd.concat(data_list, axis=1)\n",
    "\n",
    "    return df_normalized"
   ]
  },
  {
   "cell_type": "markdown",
   "id": "7c0c5acd-83fa-4407-a382-1576734c2b3a",
   "metadata": {},
   "source": [
    "# Data Imputation Approach 1 - Row Deletition of Missing Data Cells:\n",
    "\n",
    "The original length of our current dataset for modeling contains ~ 40,000 entries. However, due to the limitation of some input features such as `Production Quantity` and `Import/Export Value`, for incomplete entries, we resort to row deleton to preserve every full-lenght feature, which results to ~ 7,000 entries."
   ]
  },
  {
   "cell_type": "code",
   "execution_count": 8,
   "id": "cbc12e4a-f203-4f8f-83c8-3f72eb62291b",
   "metadata": {},
   "outputs": [
    {
     "data": {
      "text/plain": [
       "\"\\n    output = pd.read_csv('../Output_Data/tariff_model_data.csv')\\n    output = output[(output['democracy level'] > 0) & (output['gdp per capita'] > 0) & (output['import trade value'] > 0) & (output['production quantity']> 0) & (output['FAO Cropname'] != ' ') & (output['export trade value'] > 0)]\\n    #result = output.sample(n=100, replace =False)\\n    output.to_csv('../Output_Data/tariff_model_data_FILTERED.csv')\\n\""
      ]
     },
     "execution_count": 8,
     "metadata": {},
     "output_type": "execute_result"
    }
   ],
   "source": [
    "output = pd.read_csv('../Output_Data/tariff_model_data.csv')\n",
    "output = output[(output['democracy level'] > 0) & (output['gdp per capita'] > 0) & (output['import trade value'] > 0) & (output['production quantity']> 0) & (output['FAO Cropname'] != ' ') & (output['export trade value'] > 0)]\n",
    "#result = output.sample(n=100, replace =False)\n",
    "output.to_csv('../Output_Data/tariff_model_data_FILTERED.csv')\n"
   ]
  },
  {
   "cell_type": "code",
   "execution_count": 3,
   "id": "1b94eb98-0f9d-4446-ae3a-a3d7276a8d2e",
   "metadata": {},
   "outputs": [],
   "source": [
    "df=pd.read_csv('tariff_model_data_FILTERED.csv') "
   ]
  },
  {
   "cell_type": "code",
   "execution_count": 4,
   "id": "2bd8e930-f7b1-4908-ab17-65045f4e600d",
   "metadata": {},
   "outputs": [],
   "source": [
    "X = df.drop(['mfn','Crop ID', 'Unnamed: 0', 'Unnamed: 0.1'], axis = 1)   \n",
    "X = norm_one_hot(X, ['production quantity','percent gdp from agriculture','import trade value','export trade value', 'gdp per capita','democracy level', 'edible', 'modified', 'fresh', 'frozen', 'shelled', 'dried', 'chilled', 'seed', 'ground', 'preserved'])\n",
    "col_names = list(X.columns)"
   ]
  },
  {
   "cell_type": "markdown",
   "id": "ecc6db30-8ebf-4f83-9aac-d6cbf36b0ad8",
   "metadata": {},
   "source": [
    "# Model 1: Random Forest Regression\n",
    "\n",
    "We implemented a random forrest regressor model to predict the tariff rates of ~ 7000 data entries, splitting the training/testing data by 70-30% ratio, which 1000 averaged estimator decision trees."
   ]
  },
  {
   "cell_type": "code",
   "execution_count": 5,
   "id": "83914627-1461-4dcd-b32d-89299a37bcef",
   "metadata": {},
   "outputs": [
    {
     "name": "stdout",
     "output_type": "stream",
     "text": [
      "Elapsed time to compute performance: 31.705 seconds\n"
     ]
    }
   ],
   "source": [
    "Y = df['mfn']\n",
    "start_time = time.time()\n",
    "#polynomial_features= PolynomialFeatures(degree=3)\n",
    "#X = polynomial_features.fit_transform(X)\n",
    "\n",
    "X_train, X_test, Y_train, Y_test = train_test_split(X, Y, test_size=0.3, random_state=0)\n",
    "\n",
    "\n",
    "model = RandomForestRegressor(n_estimators = 1000, random_state = 42)\n",
    "model.fit(X_train, Y_train)\n",
    "Y_pred = model.predict(X_test)\n",
    "\n",
    "elapsed_time = time.time() - start_time\n",
    "\n",
    "print(f\"Elapsed time to compute performance: {elapsed_time:.3f} seconds\")"
   ]
  },
  {
   "cell_type": "markdown",
   "id": "0aaaee92-ef57-453f-b29a-dae194e776f9",
   "metadata": {},
   "source": [
    "The subsequent analysis reports the following metrics:\n",
    "\n",
    "* `Correlation Coefficient`: The level of correlation between the input features and the output result, the tariff rate.\n",
    "* `Mean Absolute Error`: The average distance between the predicted and actual output values.\n",
    "* A side-by-side comparison of the actual and predicted mfn rates, as a numpy array.\n",
    "* `Precision Accuracy`: The number of correctly predicted tariff rates, bound by `Margin of Error, MOE`, which is the number of percentage points a predicted value is allowed to be away from the actual value to be considered a \"correct prediction\". "
   ]
  },
  {
   "cell_type": "code",
   "execution_count": 6,
   "id": "d3e9e8e5-cf25-47b3-8b40-6daf29bc3991",
   "metadata": {},
   "outputs": [
    {
     "name": "stdout",
     "output_type": "stream",
     "text": [
      "Correlation Coefficient: 0.6836348518035504\n",
      "Mean abolute error in predictions: 3.2381778109885766\n",
      "Actual results: [12.80000019  0.          6.         ... 15.          9.19999981\n",
      "  5.        ]\n",
      "Model-Generated Results: [12.01282445  0.77766667  5.69907309 ... 19.7705487   9.08530201\n",
      "  5.46449167]\n",
      "Accuracy Results: Found with a Margin of Error of 土4%. \n",
      "\n",
      "Number of predicted tariffs within 4% of actual: 1413\n",
      "Number of predicted tariffs outside 4% of actual: 430\n",
      "Prediction Accuracy of Model: 0.7667\n"
     ]
    }
   ],
   "source": [
    "print('Correlation Coefficient:', model.score(X_test, Y_test))\n",
    "\n",
    "#mean squared error\n",
    "print('Mean abolute error in predictions:', metrics.mean_absolute_error(Y_test, Y_pred))\n",
    "\n",
    "actual = list(Y_test)\n",
    "predicted = list(Y_pred)\n",
    "\n",
    "#importances = model.feature_importances_\n",
    "#print('Feature Importance List: ', importances) \n",
    "\n",
    "print('Actual results:', np.array(Y_test))\n",
    "print('Model-Generated Results:', np.array(Y_pred))\n",
    "\n",
    "#Check the accuracy of the model, usng adjusted maringal error of 1-5%\n",
    "\n",
    "moe = 4\n",
    "\n",
    "num_accurate = 0\n",
    "num_inaccurate = 0\n",
    "for index, element in enumerate(actual):\n",
    "    if abs(element - predicted[index]) < moe:\n",
    "        num_accurate += 1\n",
    "    else:\n",
    "        num_inaccurate += 1\n",
    "\n",
    "print('Accuracy Results: Found with a Margin of Error of 土' + str(moe) + '%. \\n')\n",
    "print('Number of predicted tariffs within ' + str(moe) + '% of actual:', num_accurate)\n",
    "print('Number of predicted tariffs outside ' + str(moe) + '% of actual:', num_inaccurate)\n",
    "\n",
    "print('Prediction Accuracy of Model:', round(num_accurate/(num_accurate+num_inaccurate),4))\n"
   ]
  },
  {
   "cell_type": "markdown",
   "id": "a7c84693-2330-446a-8fb6-85526146a45d",
   "metadata": {},
   "source": [
    "# Feature Importance\n",
    "\n",
    "We then use the `feature_importances_` attribute of the model to plot the 12 most weighed features the model uses in its predictions. The resulting feature set can be categorized as follows:\n",
    "\n",
    "* `Auxiliary Data` - data regarding the preparation of crops\n",
    "* `Trade Data` - trade statistics of crop relating to importing country:\n",
    "    - `Import/Export Value`\n",
    "    - `Production Quantity`\n",
    "* `Country-Level Data` - country-specific socioeconomic data:\n",
    "    - `Democracy Level`\n",
    "    - `% GDP from Agriculture`\n",
    "    - `GDP Per Capita`"
   ]
  },
  {
   "cell_type": "code",
   "execution_count": 7,
   "id": "1a0f0612-e57e-4d31-ac75-250e07a5664b",
   "metadata": {},
   "outputs": [
    {
     "data": {
      "text/plain": [
       "Text(0.5, 0, 'Random Forest Significant Feature Importance')"
      ]
     },
     "execution_count": 7,
     "metadata": {},
     "output_type": "execute_result"
    },
    {
     "data": {
      "image/png": "[encoded data removed]",
      "text/plain": [
       "<Figure size 432x288 with 1 Axes>"
      ]
     },
     "metadata": {
      "needs_background": "light"
     },
     "output_type": "display_data"
    }
   ],
   "source": [
    "f_names = []\n",
    "f_features = []\n",
    "for index, val in enumerate(list(model.feature_importances_)):\n",
    "    if val > 0.01:\n",
    "        f_features.append(val)\n",
    "        f_names.append(col_names[index])\n",
    "\n",
    "plt.barh(f_names[7:], f_features[7:])\n",
    "plt.xlabel(\"Random Forest Significant Feature Importance\")"
   ]
  },
  {
   "cell_type": "code",
   "execution_count": null,
   "id": "863dcfc2-b882-4d2a-ae37-fd3b83fb0735",
   "metadata": {},
   "outputs": [],
   "source": [
    "\n"
   ]
  },
  {
   "cell_type": "code",
   "execution_count": null,
   "id": "2330a17d-0b05-4ee6-913d-bb540214c44c",
   "metadata": {
    "tags": []
   },
   "outputs": [],
   "source": [
    "\n",
    "                "
   ]
  },
  {
   "cell_type": "code",
   "execution_count": null,
   "id": "9a365423-945c-4273-b9e2-808125f8fb90",
   "metadata": {},
   "outputs": [],
   "source": []
  }
 ],
 "metadata": {
  "kernelspec": {
   "display_name": "Python 3 (ipykernel)",
   "language": "python",
   "name": "python3"
  },
  "language_info": {
   "codemirror_mode": {
    "name": "ipython",
    "version": 3
   },
   "file_extension": ".py",
   "mimetype": "text/x-python",
   "name": "python",
   "nbconvert_exporter": "python",
   "pygments_lexer": "ipython3",
   "version": "3.8.3"
  }
 },
 "nbformat": 4,
 "nbformat_minor": 5
}
